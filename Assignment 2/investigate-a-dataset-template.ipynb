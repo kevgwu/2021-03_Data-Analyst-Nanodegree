{
 "cells": [
  {
   "cell_type": "markdown",
   "metadata": {},
   "source": [
    "# Investigating Correlations of Life Expectancy against Work Hours, Happiness, and Government Democracy Levels\n",
    "\n",
    "## Table of Contents\n",
    "<ul>\n",
    "<li><a href=\"#intro\">Introduction</a></li>\n",
    "<li><a href=\"#wrangling\">Data Wrangling</a></li>\n",
    "<li><a href=\"#eda\">Exploratory Data Analysis</a></li>\n",
    "<li><a href=\"#conclusions\">Conclusions</a></li>\n",
    "</ul>"
   ]
  },
  {
   "cell_type": "markdown",
   "metadata": {},
   "source": [
    "<a id='intro'></a>\n",
    "## Introduction\n",
    "\n",
    "The dataset being invested is Gapminder World's dataset. The main question is whether there is correlation between life expectancy (the dependent variable) and work hours, happiness, and democracy score (the independent variables).\n",
    "\n",
    "From the dataset, four files have been downloaded for each of the variables. From the given files, only numbers for years 2005-2011 will be used for the analysis of this question. "
   ]
  },
  {
   "cell_type": "code",
   "execution_count": 1,
   "metadata": {},
   "outputs": [],
   "source": [
    "# Use this cell to set up import statements for all of the packages that you plan to use.\n",
    "\n",
    "# Remember to include a 'magic word' so that your visualizations are plotted\n",
    "\n",
    "import pandas as pd\n",
    "import numpy as np\n",
    "import matplotlib as mt\n",
    "%matplotlib inline"
   ]
  },
  {
   "cell_type": "markdown",
   "metadata": {},
   "source": [
    "<a id='wrangling'></a>\n",
    "## Data Wrangling\n",
    "\n",
    "### General Properties"
   ]
  },
  {
   "cell_type": "code",
   "execution_count": 2,
   "metadata": {},
   "outputs": [
    {
     "data": {
      "text/html": [
       "<div>\n",
       "<style scoped>\n",
       "    .dataframe tbody tr th:only-of-type {\n",
       "        vertical-align: middle;\n",
       "    }\n",
       "\n",
       "    .dataframe tbody tr th {\n",
       "        vertical-align: top;\n",
       "    }\n",
       "\n",
       "    .dataframe thead th {\n",
       "        text-align: right;\n",
       "    }\n",
       "</style>\n",
       "<table border=\"1\" class=\"dataframe\">\n",
       "  <thead>\n",
       "    <tr style=\"text-align: right;\">\n",
       "      <th></th>\n",
       "      <th>country</th>\n",
       "      <th>1800</th>\n",
       "      <th>1801</th>\n",
       "      <th>1802</th>\n",
       "      <th>1803</th>\n",
       "      <th>1804</th>\n",
       "      <th>1805</th>\n",
       "      <th>1806</th>\n",
       "      <th>1807</th>\n",
       "      <th>1808</th>\n",
       "      <th>...</th>\n",
       "      <th>2002</th>\n",
       "      <th>2003</th>\n",
       "      <th>2004</th>\n",
       "      <th>2005</th>\n",
       "      <th>2006</th>\n",
       "      <th>2007</th>\n",
       "      <th>2008</th>\n",
       "      <th>2009</th>\n",
       "      <th>2010</th>\n",
       "      <th>2011</th>\n",
       "    </tr>\n",
       "  </thead>\n",
       "  <tbody>\n",
       "    <tr>\n",
       "      <th>0</th>\n",
       "      <td>Afghanistan</td>\n",
       "      <td>-6.0</td>\n",
       "      <td>-6.0</td>\n",
       "      <td>-6.0</td>\n",
       "      <td>-6.0</td>\n",
       "      <td>-6.0</td>\n",
       "      <td>-6.0</td>\n",
       "      <td>-6.0</td>\n",
       "      <td>-6.0</td>\n",
       "      <td>-6.0</td>\n",
       "      <td>...</td>\n",
       "      <td>NaN</td>\n",
       "      <td>NaN</td>\n",
       "      <td>NaN</td>\n",
       "      <td>NaN</td>\n",
       "      <td>NaN</td>\n",
       "      <td>NaN</td>\n",
       "      <td>NaN</td>\n",
       "      <td>NaN</td>\n",
       "      <td>NaN</td>\n",
       "      <td>NaN</td>\n",
       "    </tr>\n",
       "    <tr>\n",
       "      <th>1</th>\n",
       "      <td>Albania</td>\n",
       "      <td>NaN</td>\n",
       "      <td>NaN</td>\n",
       "      <td>NaN</td>\n",
       "      <td>NaN</td>\n",
       "      <td>NaN</td>\n",
       "      <td>NaN</td>\n",
       "      <td>NaN</td>\n",
       "      <td>NaN</td>\n",
       "      <td>NaN</td>\n",
       "      <td>...</td>\n",
       "      <td>7.0</td>\n",
       "      <td>7.0</td>\n",
       "      <td>7.0</td>\n",
       "      <td>9.0</td>\n",
       "      <td>9.0</td>\n",
       "      <td>9.0</td>\n",
       "      <td>9.0</td>\n",
       "      <td>9.0</td>\n",
       "      <td>9.0</td>\n",
       "      <td>9.0</td>\n",
       "    </tr>\n",
       "    <tr>\n",
       "      <th>2</th>\n",
       "      <td>Algeria</td>\n",
       "      <td>NaN</td>\n",
       "      <td>NaN</td>\n",
       "      <td>NaN</td>\n",
       "      <td>NaN</td>\n",
       "      <td>NaN</td>\n",
       "      <td>NaN</td>\n",
       "      <td>NaN</td>\n",
       "      <td>NaN</td>\n",
       "      <td>NaN</td>\n",
       "      <td>...</td>\n",
       "      <td>-3.0</td>\n",
       "      <td>-3.0</td>\n",
       "      <td>2.0</td>\n",
       "      <td>2.0</td>\n",
       "      <td>2.0</td>\n",
       "      <td>2.0</td>\n",
       "      <td>2.0</td>\n",
       "      <td>2.0</td>\n",
       "      <td>2.0</td>\n",
       "      <td>2.0</td>\n",
       "    </tr>\n",
       "    <tr>\n",
       "      <th>3</th>\n",
       "      <td>Angola</td>\n",
       "      <td>NaN</td>\n",
       "      <td>NaN</td>\n",
       "      <td>NaN</td>\n",
       "      <td>NaN</td>\n",
       "      <td>NaN</td>\n",
       "      <td>NaN</td>\n",
       "      <td>NaN</td>\n",
       "      <td>NaN</td>\n",
       "      <td>NaN</td>\n",
       "      <td>...</td>\n",
       "      <td>-2.0</td>\n",
       "      <td>-2.0</td>\n",
       "      <td>-2.0</td>\n",
       "      <td>-2.0</td>\n",
       "      <td>-2.0</td>\n",
       "      <td>-2.0</td>\n",
       "      <td>-2.0</td>\n",
       "      <td>-2.0</td>\n",
       "      <td>-2.0</td>\n",
       "      <td>-2.0</td>\n",
       "    </tr>\n",
       "    <tr>\n",
       "      <th>4</th>\n",
       "      <td>Argentina</td>\n",
       "      <td>NaN</td>\n",
       "      <td>NaN</td>\n",
       "      <td>NaN</td>\n",
       "      <td>NaN</td>\n",
       "      <td>NaN</td>\n",
       "      <td>NaN</td>\n",
       "      <td>NaN</td>\n",
       "      <td>NaN</td>\n",
       "      <td>NaN</td>\n",
       "      <td>...</td>\n",
       "      <td>8.0</td>\n",
       "      <td>8.0</td>\n",
       "      <td>8.0</td>\n",
       "      <td>8.0</td>\n",
       "      <td>8.0</td>\n",
       "      <td>8.0</td>\n",
       "      <td>8.0</td>\n",
       "      <td>8.0</td>\n",
       "      <td>8.0</td>\n",
       "      <td>8.0</td>\n",
       "    </tr>\n",
       "  </tbody>\n",
       "</table>\n",
       "<p>5 rows × 213 columns</p>\n",
       "</div>"
      ],
      "text/plain": [
       "       country  1800  1801  1802  1803  1804  1805  1806  1807  1808  ...  \\\n",
       "0  Afghanistan  -6.0  -6.0  -6.0  -6.0  -6.0  -6.0  -6.0  -6.0  -6.0  ...   \n",
       "1      Albania   NaN   NaN   NaN   NaN   NaN   NaN   NaN   NaN   NaN  ...   \n",
       "2      Algeria   NaN   NaN   NaN   NaN   NaN   NaN   NaN   NaN   NaN  ...   \n",
       "3       Angola   NaN   NaN   NaN   NaN   NaN   NaN   NaN   NaN   NaN  ...   \n",
       "4    Argentina   NaN   NaN   NaN   NaN   NaN   NaN   NaN   NaN   NaN  ...   \n",
       "\n",
       "   2002  2003  2004  2005  2006  2007  2008  2009  2010  2011  \n",
       "0   NaN   NaN   NaN   NaN   NaN   NaN   NaN   NaN   NaN   NaN  \n",
       "1   7.0   7.0   7.0   9.0   9.0   9.0   9.0   9.0   9.0   9.0  \n",
       "2  -3.0  -3.0   2.0   2.0   2.0   2.0   2.0   2.0   2.0   2.0  \n",
       "3  -2.0  -2.0  -2.0  -2.0  -2.0  -2.0  -2.0  -2.0  -2.0  -2.0  \n",
       "4   8.0   8.0   8.0   8.0   8.0   8.0   8.0   8.0   8.0   8.0  \n",
       "\n",
       "[5 rows x 213 columns]"
      ]
     },
     "execution_count": 2,
     "metadata": {},
     "output_type": "execute_result"
    }
   ],
   "source": [
    "# Load your data and print out a few lines. Perform operations to inspect data\n",
    "#   types and look for instances of missing or possibly errant data.\n",
    "\n",
    "tl= pd.read_csv('life_expectancy_years.csv') \n",
    "tw= pd.read_csv('working_hours_per_week.csv')\n",
    "th= pd.read_csv('hapiscore_whr.csv')\n",
    "td= pd.read_csv('democracy_score_use_as_color.csv')\n",
    "\n",
    "td.head()"
   ]
  },
  {
   "cell_type": "markdown",
   "metadata": {},
   "source": [
    "As explained in the intro as to only analyze a set period of time, I will be analyzing data from the years 2005-2011. The years were chosen to reflect more recent years due the likelihood of more accurate data compared to data from decades ago. Additionally, the year range was determined by data being available in all files. In this case, the Happiness Score data only goes as far back as 2005, while the Democracy Score data only goes up to 2011.\n",
    "\n",
    "From the original tables, I will extract the year columns that correpond to those years.\n",
    "\n",
    "**(See Below)**"
   ]
  },
  {
   "cell_type": "code",
   "execution_count": 3,
   "metadata": {},
   "outputs": [
    {
     "data": {
      "text/html": [
       "<div>\n",
       "<style scoped>\n",
       "    .dataframe tbody tr th:only-of-type {\n",
       "        vertical-align: middle;\n",
       "    }\n",
       "\n",
       "    .dataframe tbody tr th {\n",
       "        vertical-align: top;\n",
       "    }\n",
       "\n",
       "    .dataframe thead th {\n",
       "        text-align: right;\n",
       "    }\n",
       "</style>\n",
       "<table border=\"1\" class=\"dataframe\">\n",
       "  <thead>\n",
       "    <tr style=\"text-align: right;\">\n",
       "      <th></th>\n",
       "      <th>country</th>\n",
       "      <th>2005</th>\n",
       "      <th>2006</th>\n",
       "      <th>2007</th>\n",
       "      <th>2008</th>\n",
       "      <th>2009</th>\n",
       "      <th>2010</th>\n",
       "      <th>2011</th>\n",
       "    </tr>\n",
       "  </thead>\n",
       "  <tbody>\n",
       "    <tr>\n",
       "      <th>0</th>\n",
       "      <td>Afghanistan</td>\n",
       "      <td>NaN</td>\n",
       "      <td>NaN</td>\n",
       "      <td>NaN</td>\n",
       "      <td>NaN</td>\n",
       "      <td>NaN</td>\n",
       "      <td>NaN</td>\n",
       "      <td>NaN</td>\n",
       "    </tr>\n",
       "  </tbody>\n",
       "</table>\n",
       "</div>"
      ],
      "text/plain": [
       "       country  2005  2006  2007  2008  2009  2010  2011\n",
       "0  Afghanistan   NaN   NaN   NaN   NaN   NaN   NaN   NaN"
      ]
     },
     "execution_count": 3,
     "metadata": {},
     "output_type": "execute_result"
    }
   ],
   "source": [
    "column_list = ['country', '2005', '2006', '2007', '2008', '2009', '2010', '2011']\n",
    "\n",
    "tlex = tl[column_list]\n",
    "twex = tw[column_list]\n",
    "thex = th[column_list]\n",
    "tdex = td[column_list]\n",
    "\n",
    "tdex.head(1)"
   ]
  },
  {
   "cell_type": "code",
   "execution_count": 4,
   "metadata": {
    "scrolled": true
   },
   "outputs": [
    {
     "name": "stdout",
     "output_type": "stream",
     "text": [
      "<class 'pandas.core.frame.DataFrame'>\n",
      "RangeIndex: 187 entries, 0 to 186\n",
      "Data columns (total 8 columns):\n",
      " #   Column   Non-Null Count  Dtype  \n",
      "---  ------   --------------  -----  \n",
      " 0   country  187 non-null    object \n",
      " 1   2005     187 non-null    float64\n",
      " 2   2006     187 non-null    float64\n",
      " 3   2007     187 non-null    float64\n",
      " 4   2008     187 non-null    float64\n",
      " 5   2009     187 non-null    float64\n",
      " 6   2010     187 non-null    float64\n",
      " 7   2011     187 non-null    float64\n",
      "dtypes: float64(7), object(1)\n",
      "memory usage: 11.8+ KB\n",
      "None\n",
      "<class 'pandas.core.frame.DataFrame'>\n",
      "RangeIndex: 126 entries, 0 to 125\n",
      "Data columns (total 8 columns):\n",
      " #   Column   Non-Null Count  Dtype  \n",
      "---  ------   --------------  -----  \n",
      " 0   country  126 non-null    object \n",
      " 1   2005     59 non-null     float64\n",
      " 2   2006     62 non-null     float64\n",
      " 3   2007     60 non-null     float64\n",
      " 4   2008     60 non-null     float64\n",
      " 5   2009     78 non-null     float64\n",
      " 6   2010     85 non-null     float64\n",
      " 7   2011     80 non-null     float64\n",
      "dtypes: float64(7), object(1)\n",
      "memory usage: 8.0+ KB\n",
      "None\n",
      "<class 'pandas.core.frame.DataFrame'>\n",
      "RangeIndex: 161 entries, 0 to 160\n",
      "Data columns (total 8 columns):\n",
      " #   Column   Non-Null Count  Dtype  \n",
      "---  ------   --------------  -----  \n",
      " 0   country  161 non-null    object \n",
      " 1   2005     27 non-null     float64\n",
      " 2   2006     87 non-null     float64\n",
      " 3   2007     101 non-null    float64\n",
      " 4   2008     107 non-null    float64\n",
      " 5   2009     112 non-null    float64\n",
      " 6   2010     121 non-null    float64\n",
      " 7   2011     143 non-null    float64\n",
      "dtypes: float64(7), object(1)\n",
      "memory usage: 10.2+ KB\n",
      "None\n",
      "<class 'pandas.core.frame.DataFrame'>\n",
      "RangeIndex: 165 entries, 0 to 164\n",
      "Data columns (total 8 columns):\n",
      " #   Column   Non-Null Count  Dtype  \n",
      "---  ------   --------------  -----  \n",
      " 0   country  165 non-null    object \n",
      " 1   2005     161 non-null    float64\n",
      " 2   2006     161 non-null    float64\n",
      " 3   2007     161 non-null    float64\n",
      " 4   2008     161 non-null    float64\n",
      " 5   2009     161 non-null    float64\n",
      " 6   2010     161 non-null    float64\n",
      " 7   2011     161 non-null    float64\n",
      "dtypes: float64(7), object(1)\n",
      "memory usage: 10.4+ KB\n",
      "None\n"
     ]
    }
   ],
   "source": [
    "print(tlex.info())\n",
    "print(twex.info())\n",
    "print(thex.info())\n",
    "print(tdex.info())"
   ]
  },
  {
   "cell_type": "markdown",
   "metadata": {},
   "source": [
    "### Data Cleaning"
   ]
  },
  {
   "cell_type": "markdown",
   "metadata": {},
   "source": [
    "From the ```info()``` functions, data sets **tw**, **th**, and **td** have null values. These correspond to the **work hours**, **happiness scores**, and **democracy score** data sets. \n",
    "\n",
    "For the **work hours** and the **happiness score** tables, it appears there are individual cells that need filling, but also full rows. Where individual cells need filling, it seems that the best way to fill those cells is by doing a row mean instead of a colum mean as numbers vary much more between countries than between years. To address the missing rows of information, a column mean can be used.\n",
    "\n",
    "For the **democracy score**, it appears that some countries are missing whole rows of information. In this case, I will be using a column mean to fill those in."
   ]
  },
  {
   "cell_type": "code",
   "execution_count": 5,
   "metadata": {},
   "outputs": [],
   "source": [
    "# Fill NA in Work Hours Table by row mean\n",
    "\n",
    "twexmean=twex.mean(axis=1)\n",
    "twextrans=twex.T\n",
    "twextrans.fillna(twexmean.T, inplace = True)\n",
    "twex=twextrans.T\n",
    "\n",
    "# Restore column data type after datatype loss due to transpose\n",
    "\n",
    "col = ['2005', '2006', '2007', '2008', '2009', '2010', '2011']\n",
    "for columns in col:\n",
    "    twex[columns]=twex.loc[:,columns].astype(float)\n",
    "\n",
    "# Fill NA in Work Hours Table by column mean\n",
    "\n",
    "twex.fillna(twex.mean(axis=0), inplace=True)"
   ]
  },
  {
   "cell_type": "code",
   "execution_count": 6,
   "metadata": {
    "scrolled": true
   },
   "outputs": [],
   "source": [
    "# Fill in NA in Happiness Score Table by row mean \n",
    "thexmean=thex.mean(axis=1)\n",
    "thextrans=thex.T\n",
    "thextrans.fillna(thexmean.T, inplace = True)\n",
    "thex=thextrans.T\n",
    "\n",
    "#Restoring data type for columns after datatype loss due to transpose\n",
    "\n",
    "col = ['2005', '2006', '2007', '2008', '2009', '2010', '2011']\n",
    "for columns in col:\n",
    "    thex[columns]=thex.loc[:,columns].astype(float)\n",
    "\n",
    "# Fill NA in Happiness Score Table by column mean\n",
    "\n",
    "thex.fillna(thex.mean(axis=0), inplace=True)"
   ]
  },
  {
   "cell_type": "code",
   "execution_count": 7,
   "metadata": {},
   "outputs": [
    {
     "name": "stderr",
     "output_type": "stream",
     "text": [
      "C:\\Users\\kevgw\\anaconda3\\lib\\site-packages\\pandas\\core\\series.py:4517: SettingWithCopyWarning: \n",
      "A value is trying to be set on a copy of a slice from a DataFrame\n",
      "\n",
      "See the caveats in the documentation: https://pandas.pydata.org/pandas-docs/stable/user_guide/indexing.html#returning-a-view-versus-a-copy\n",
      "  return super().fillna(\n"
     ]
    }
   ],
   "source": [
    "# Fill in NA in Democracy Score table by column mean\n",
    "\n",
    "tdex.fillna(tdex.mean(),inplace=True)"
   ]
  },
  {
   "cell_type": "code",
   "execution_count": 8,
   "metadata": {},
   "outputs": [
    {
     "name": "stdout",
     "output_type": "stream",
     "text": [
      "<class 'pandas.core.frame.DataFrame'>\n",
      "RangeIndex: 187 entries, 0 to 186\n",
      "Data columns (total 8 columns):\n",
      " #   Column   Non-Null Count  Dtype  \n",
      "---  ------   --------------  -----  \n",
      " 0   country  187 non-null    object \n",
      " 1   2005     187 non-null    float64\n",
      " 2   2006     187 non-null    float64\n",
      " 3   2007     187 non-null    float64\n",
      " 4   2008     187 non-null    float64\n",
      " 5   2009     187 non-null    float64\n",
      " 6   2010     187 non-null    float64\n",
      " 7   2011     187 non-null    float64\n",
      "dtypes: float64(7), object(1)\n",
      "memory usage: 11.8+ KB\n",
      "None\n",
      "<class 'pandas.core.frame.DataFrame'>\n",
      "RangeIndex: 126 entries, 0 to 125\n",
      "Data columns (total 8 columns):\n",
      " #   Column   Non-Null Count  Dtype  \n",
      "---  ------   --------------  -----  \n",
      " 0   country  126 non-null    object \n",
      " 1   2005     126 non-null    float64\n",
      " 2   2006     126 non-null    float64\n",
      " 3   2007     126 non-null    float64\n",
      " 4   2008     126 non-null    float64\n",
      " 5   2009     126 non-null    float64\n",
      " 6   2010     126 non-null    float64\n",
      " 7   2011     126 non-null    float64\n",
      "dtypes: float64(7), object(1)\n",
      "memory usage: 8.0+ KB\n",
      "None\n",
      "<class 'pandas.core.frame.DataFrame'>\n",
      "RangeIndex: 161 entries, 0 to 160\n",
      "Data columns (total 8 columns):\n",
      " #   Column   Non-Null Count  Dtype  \n",
      "---  ------   --------------  -----  \n",
      " 0   country  161 non-null    object \n",
      " 1   2005     161 non-null    float64\n",
      " 2   2006     161 non-null    float64\n",
      " 3   2007     161 non-null    float64\n",
      " 4   2008     161 non-null    float64\n",
      " 5   2009     161 non-null    float64\n",
      " 6   2010     161 non-null    float64\n",
      " 7   2011     161 non-null    float64\n",
      "dtypes: float64(7), object(1)\n",
      "memory usage: 10.2+ KB\n",
      "None\n",
      "<class 'pandas.core.frame.DataFrame'>\n",
      "RangeIndex: 165 entries, 0 to 164\n",
      "Data columns (total 8 columns):\n",
      " #   Column   Non-Null Count  Dtype  \n",
      "---  ------   --------------  -----  \n",
      " 0   country  165 non-null    object \n",
      " 1   2005     165 non-null    float64\n",
      " 2   2006     165 non-null    float64\n",
      " 3   2007     165 non-null    float64\n",
      " 4   2008     165 non-null    float64\n",
      " 5   2009     165 non-null    float64\n",
      " 6   2010     165 non-null    float64\n",
      " 7   2011     165 non-null    float64\n",
      "dtypes: float64(7), object(1)\n",
      "memory usage: 10.4+ KB\n",
      "None\n",
      "0\n",
      "0\n",
      "0\n",
      "0\n"
     ]
    }
   ],
   "source": [
    "# Check NA values are all filled in\n",
    "\n",
    "print(tlex.info())\n",
    "print(twex.info())\n",
    "print(thex.info())\n",
    "print(tdex.info())\n",
    "\n",
    "# Check no duplicates exist\n",
    "\n",
    "print(sum(tlex.duplicated()))\n",
    "print(sum(twex.duplicated()))\n",
    "print(sum(thex.duplicated()))\n",
    "print(sum(tdex.duplicated()))"
   ]
  },
  {
   "cell_type": "markdown",
   "metadata": {},
   "source": [
    "Now that all the tables have been cleaned, we will merge the tables into one big data set. To do this, columns need to be re-named so they do not have the same year columns. "
   ]
  },
  {
   "cell_type": "code",
   "execution_count": 9,
   "metadata": {},
   "outputs": [],
   "source": [
    "#Column Renaming\n",
    "colnameslife = ['country_le','2005_le', '2006_le', '2007_le', '2008_le', '2009_le', '2010_le', '2011_le']\n",
    "colnameswork = ['country_wh','2005_wh', '2006_wh', '2007_wh', '2008_wh', '2009_wh', '2010_wh', '2011_wh']\n",
    "colnameshappy = ['country_hs','2005_hs', '2006_hs', '2007_hs', '2008_hs', '2009_hs', '2010_hs', '2011_hs']\n",
    "colnamesdemo = ['country_ds','2005_ds', '2006_ds', '2007_ds', '2008_ds', '2009_ds', '2010_ds', '2011_ds']\n",
    "\n",
    "tlex.columns = colnameslife\n",
    "twex.columns = colnameswork\n",
    "thex.columns = colnameshappy\n",
    "tdex.columns = colnamesdemo"
   ]
  },
  {
   "cell_type": "markdown",
   "metadata": {},
   "source": [
    "Now that all columns have been renamed, the data can all be merged into a Data Frame called **df**. \n",
    "\n",
    "The data has been merged as a inner join to ensure the countries that remain have full data. It appears that some data sets do not have information for particular countries and so these are just dropped to leave only countries with data or countries whose data was filled previously."
   ]
  },
  {
   "cell_type": "code",
   "execution_count": 10,
   "metadata": {},
   "outputs": [],
   "source": [
    "df = tlex.merge(twex, left_on='country_le', right_on='country_wh', how='inner')\n",
    "df = df.merge(thex, left_on='country_le', right_on='country_hs', how='inner')\n",
    "df = df.merge(tdex, left_on='country_le', right_on='country_ds', how='inner')"
   ]
  },
  {
   "cell_type": "code",
   "execution_count": 11,
   "metadata": {
    "scrolled": true
   },
   "outputs": [
    {
     "name": "stdout",
     "output_type": "stream",
     "text": [
      "<class 'pandas.core.frame.DataFrame'>\n",
      "Int64Index: 116 entries, 0 to 115\n",
      "Data columns (total 32 columns):\n",
      " #   Column      Non-Null Count  Dtype  \n",
      "---  ------      --------------  -----  \n",
      " 0   country_le  116 non-null    object \n",
      " 1   2005_le     116 non-null    float64\n",
      " 2   2006_le     116 non-null    float64\n",
      " 3   2007_le     116 non-null    float64\n",
      " 4   2008_le     116 non-null    float64\n",
      " 5   2009_le     116 non-null    float64\n",
      " 6   2010_le     116 non-null    float64\n",
      " 7   2011_le     116 non-null    float64\n",
      " 8   country_wh  116 non-null    object \n",
      " 9   2005_wh     116 non-null    float64\n",
      " 10  2006_wh     116 non-null    float64\n",
      " 11  2007_wh     116 non-null    float64\n",
      " 12  2008_wh     116 non-null    float64\n",
      " 13  2009_wh     116 non-null    float64\n",
      " 14  2010_wh     116 non-null    float64\n",
      " 15  2011_wh     116 non-null    float64\n",
      " 16  country_hs  116 non-null    object \n",
      " 17  2005_hs     116 non-null    float64\n",
      " 18  2006_hs     116 non-null    float64\n",
      " 19  2007_hs     116 non-null    float64\n",
      " 20  2008_hs     116 non-null    float64\n",
      " 21  2009_hs     116 non-null    float64\n",
      " 22  2010_hs     116 non-null    float64\n",
      " 23  2011_hs     116 non-null    float64\n",
      " 24  country_ds  116 non-null    object \n",
      " 25  2005_ds     116 non-null    float64\n",
      " 26  2006_ds     116 non-null    float64\n",
      " 27  2007_ds     116 non-null    float64\n",
      " 28  2008_ds     116 non-null    float64\n",
      " 29  2009_ds     116 non-null    float64\n",
      " 30  2010_ds     116 non-null    float64\n",
      " 31  2011_ds     116 non-null    float64\n",
      "dtypes: float64(28), object(4)\n",
      "memory usage: 29.9+ KB\n"
     ]
    },
    {
     "data": {
      "text/html": [
       "<div>\n",
       "<style scoped>\n",
       "    .dataframe tbody tr th:only-of-type {\n",
       "        vertical-align: middle;\n",
       "    }\n",
       "\n",
       "    .dataframe tbody tr th {\n",
       "        vertical-align: top;\n",
       "    }\n",
       "\n",
       "    .dataframe thead th {\n",
       "        text-align: right;\n",
       "    }\n",
       "</style>\n",
       "<table border=\"1\" class=\"dataframe\">\n",
       "  <thead>\n",
       "    <tr style=\"text-align: right;\">\n",
       "      <th></th>\n",
       "      <th>country_le</th>\n",
       "      <th>2005_le</th>\n",
       "      <th>2006_le</th>\n",
       "      <th>2007_le</th>\n",
       "      <th>2008_le</th>\n",
       "      <th>2009_le</th>\n",
       "      <th>2010_le</th>\n",
       "      <th>2011_le</th>\n",
       "      <th>country_wh</th>\n",
       "      <th>2005_wh</th>\n",
       "      <th>...</th>\n",
       "      <th>2010_hs</th>\n",
       "      <th>2011_hs</th>\n",
       "      <th>country_ds</th>\n",
       "      <th>2005_ds</th>\n",
       "      <th>2006_ds</th>\n",
       "      <th>2007_ds</th>\n",
       "      <th>2008_ds</th>\n",
       "      <th>2009_ds</th>\n",
       "      <th>2010_ds</th>\n",
       "      <th>2011_ds</th>\n",
       "    </tr>\n",
       "  </thead>\n",
       "  <tbody>\n",
       "    <tr>\n",
       "      <th>111</th>\n",
       "      <td>Uruguay</td>\n",
       "      <td>75.5</td>\n",
       "      <td>76.0</td>\n",
       "      <td>75.5</td>\n",
       "      <td>76.1</td>\n",
       "      <td>76.4</td>\n",
       "      <td>76.4</td>\n",
       "      <td>76.3</td>\n",
       "      <td>Uruguay</td>\n",
       "      <td>41.072298</td>\n",
       "      <td>...</td>\n",
       "      <td>0.606</td>\n",
       "      <td>0.655</td>\n",
       "      <td>Uruguay</td>\n",
       "      <td>10.0</td>\n",
       "      <td>10.0</td>\n",
       "      <td>10.0</td>\n",
       "      <td>10.0</td>\n",
       "      <td>10.0</td>\n",
       "      <td>10.0</td>\n",
       "      <td>10.0</td>\n",
       "    </tr>\n",
       "    <tr>\n",
       "      <th>112</th>\n",
       "      <td>Venezuela</td>\n",
       "      <td>75.2</td>\n",
       "      <td>75.2</td>\n",
       "      <td>75.0</td>\n",
       "      <td>74.7</td>\n",
       "      <td>74.8</td>\n",
       "      <td>75.3</td>\n",
       "      <td>75.3</td>\n",
       "      <td>Venezuela</td>\n",
       "      <td>40.000000</td>\n",
       "      <td>...</td>\n",
       "      <td>0.748</td>\n",
       "      <td>0.658</td>\n",
       "      <td>Venezuela</td>\n",
       "      <td>6.0</td>\n",
       "      <td>5.0</td>\n",
       "      <td>5.0</td>\n",
       "      <td>5.0</td>\n",
       "      <td>-3.0</td>\n",
       "      <td>-3.0</td>\n",
       "      <td>-3.0</td>\n",
       "    </tr>\n",
       "    <tr>\n",
       "      <th>113</th>\n",
       "      <td>Vietnam</td>\n",
       "      <td>72.5</td>\n",
       "      <td>72.7</td>\n",
       "      <td>72.8</td>\n",
       "      <td>73.0</td>\n",
       "      <td>73.2</td>\n",
       "      <td>73.5</td>\n",
       "      <td>73.6</td>\n",
       "      <td>Vietnam</td>\n",
       "      <td>43.575000</td>\n",
       "      <td>...</td>\n",
       "      <td>0.530</td>\n",
       "      <td>0.577</td>\n",
       "      <td>Vietnam</td>\n",
       "      <td>-7.0</td>\n",
       "      <td>-7.0</td>\n",
       "      <td>-7.0</td>\n",
       "      <td>-7.0</td>\n",
       "      <td>-7.0</td>\n",
       "      <td>-7.0</td>\n",
       "      <td>-7.0</td>\n",
       "    </tr>\n",
       "    <tr>\n",
       "      <th>114</th>\n",
       "      <td>Yemen</td>\n",
       "      <td>65.9</td>\n",
       "      <td>66.4</td>\n",
       "      <td>66.8</td>\n",
       "      <td>67.2</td>\n",
       "      <td>67.5</td>\n",
       "      <td>68.0</td>\n",
       "      <td>68.1</td>\n",
       "      <td>Yemen</td>\n",
       "      <td>42.000000</td>\n",
       "      <td>...</td>\n",
       "      <td>0.435</td>\n",
       "      <td>0.375</td>\n",
       "      <td>Yemen</td>\n",
       "      <td>-2.0</td>\n",
       "      <td>-2.0</td>\n",
       "      <td>-2.0</td>\n",
       "      <td>-2.0</td>\n",
       "      <td>-2.0</td>\n",
       "      <td>-2.0</td>\n",
       "      <td>-2.0</td>\n",
       "    </tr>\n",
       "    <tr>\n",
       "      <th>115</th>\n",
       "      <td>Zimbabwe</td>\n",
       "      <td>45.1</td>\n",
       "      <td>45.4</td>\n",
       "      <td>45.9</td>\n",
       "      <td>46.3</td>\n",
       "      <td>47.2</td>\n",
       "      <td>49.7</td>\n",
       "      <td>52.4</td>\n",
       "      <td>Zimbabwe</td>\n",
       "      <td>41.072298</td>\n",
       "      <td>...</td>\n",
       "      <td>0.468</td>\n",
       "      <td>0.485</td>\n",
       "      <td>Zimbabwe</td>\n",
       "      <td>-4.0</td>\n",
       "      <td>-4.0</td>\n",
       "      <td>-4.0</td>\n",
       "      <td>-4.0</td>\n",
       "      <td>1.0</td>\n",
       "      <td>1.0</td>\n",
       "      <td>1.0</td>\n",
       "    </tr>\n",
       "  </tbody>\n",
       "</table>\n",
       "<p>5 rows × 32 columns</p>\n",
       "</div>"
      ],
      "text/plain": [
       "    country_le  2005_le  2006_le  2007_le  2008_le  2009_le  2010_le  2011_le  \\\n",
       "111    Uruguay     75.5     76.0     75.5     76.1     76.4     76.4     76.3   \n",
       "112  Venezuela     75.2     75.2     75.0     74.7     74.8     75.3     75.3   \n",
       "113    Vietnam     72.5     72.7     72.8     73.0     73.2     73.5     73.6   \n",
       "114      Yemen     65.9     66.4     66.8     67.2     67.5     68.0     68.1   \n",
       "115   Zimbabwe     45.1     45.4     45.9     46.3     47.2     49.7     52.4   \n",
       "\n",
       "    country_wh    2005_wh  ...  2010_hs  2011_hs  country_ds  2005_ds  \\\n",
       "111    Uruguay  41.072298  ...    0.606    0.655     Uruguay     10.0   \n",
       "112  Venezuela  40.000000  ...    0.748    0.658   Venezuela      6.0   \n",
       "113    Vietnam  43.575000  ...    0.530    0.577     Vietnam     -7.0   \n",
       "114      Yemen  42.000000  ...    0.435    0.375       Yemen     -2.0   \n",
       "115   Zimbabwe  41.072298  ...    0.468    0.485    Zimbabwe     -4.0   \n",
       "\n",
       "     2006_ds  2007_ds 2008_ds  2009_ds  2010_ds  2011_ds  \n",
       "111     10.0     10.0    10.0     10.0     10.0     10.0  \n",
       "112      5.0      5.0     5.0     -3.0     -3.0     -3.0  \n",
       "113     -7.0     -7.0    -7.0     -7.0     -7.0     -7.0  \n",
       "114     -2.0     -2.0    -2.0     -2.0     -2.0     -2.0  \n",
       "115     -4.0     -4.0    -4.0      1.0      1.0      1.0  \n",
       "\n",
       "[5 rows x 32 columns]"
      ]
     },
     "execution_count": 11,
     "metadata": {},
     "output_type": "execute_result"
    }
   ],
   "source": [
    "df.info()\n",
    "df.tail(5)"
   ]
  },
  {
   "cell_type": "markdown",
   "metadata": {},
   "source": [
    "Checking the data, Data Frame **df** appears to have 116 rows left and country data has been properly lined up.\n",
    "\n",
    "To help with Data Analysis, the mean for each attribute is calculated for each country. "
   ]
  },
  {
   "cell_type": "code",
   "execution_count": 12,
   "metadata": {},
   "outputs": [
    {
     "data": {
      "text/html": [
       "<div>\n",
       "<style scoped>\n",
       "    .dataframe tbody tr th:only-of-type {\n",
       "        vertical-align: middle;\n",
       "    }\n",
       "\n",
       "    .dataframe tbody tr th {\n",
       "        vertical-align: top;\n",
       "    }\n",
       "\n",
       "    .dataframe thead th {\n",
       "        text-align: right;\n",
       "    }\n",
       "</style>\n",
       "<table border=\"1\" class=\"dataframe\">\n",
       "  <thead>\n",
       "    <tr style=\"text-align: right;\">\n",
       "      <th></th>\n",
       "      <th>mean_le</th>\n",
       "      <th>mean_wh</th>\n",
       "      <th>mean_hs</th>\n",
       "      <th>mean_ds</th>\n",
       "    </tr>\n",
       "  </thead>\n",
       "  <tbody>\n",
       "    <tr>\n",
       "      <th>count</th>\n",
       "      <td>116.000000</td>\n",
       "      <td>116.000000</td>\n",
       "      <td>116.000000</td>\n",
       "      <td>116.000000</td>\n",
       "    </tr>\n",
       "    <tr>\n",
       "      <th>mean</th>\n",
       "      <td>71.755542</td>\n",
       "      <td>40.604866</td>\n",
       "      <td>0.556101</td>\n",
       "      <td>5.140455</td>\n",
       "    </tr>\n",
       "    <tr>\n",
       "      <th>std</th>\n",
       "      <td>8.137730</td>\n",
       "      <td>4.185334</td>\n",
       "      <td>0.106313</td>\n",
       "      <td>5.737143</td>\n",
       "    </tr>\n",
       "    <tr>\n",
       "      <th>min</th>\n",
       "      <td>47.428571</td>\n",
       "      <td>24.000000</td>\n",
       "      <td>0.362333</td>\n",
       "      <td>-10.000000</td>\n",
       "    </tr>\n",
       "    <tr>\n",
       "      <th>25%</th>\n",
       "      <td>67.375000</td>\n",
       "      <td>39.014286</td>\n",
       "      <td>0.480375</td>\n",
       "      <td>2.107143</td>\n",
       "    </tr>\n",
       "    <tr>\n",
       "      <th>50%</th>\n",
       "      <td>74.135714</td>\n",
       "      <td>40.635774</td>\n",
       "      <td>0.540639</td>\n",
       "      <td>8.000000</td>\n",
       "    </tr>\n",
       "    <tr>\n",
       "      <th>75%</th>\n",
       "      <td>78.150000</td>\n",
       "      <td>42.800000</td>\n",
       "      <td>0.640750</td>\n",
       "      <td>9.892857</td>\n",
       "    </tr>\n",
       "    <tr>\n",
       "      <th>max</th>\n",
       "      <td>82.814286</td>\n",
       "      <td>52.600000</td>\n",
       "      <td>0.784333</td>\n",
       "      <td>10.000000</td>\n",
       "    </tr>\n",
       "  </tbody>\n",
       "</table>\n",
       "</div>"
      ],
      "text/plain": [
       "          mean_le     mean_wh     mean_hs     mean_ds\n",
       "count  116.000000  116.000000  116.000000  116.000000\n",
       "mean    71.755542   40.604866    0.556101    5.140455\n",
       "std      8.137730    4.185334    0.106313    5.737143\n",
       "min     47.428571   24.000000    0.362333  -10.000000\n",
       "25%     67.375000   39.014286    0.480375    2.107143\n",
       "50%     74.135714   40.635774    0.540639    8.000000\n",
       "75%     78.150000   42.800000    0.640750    9.892857\n",
       "max     82.814286   52.600000    0.784333   10.000000"
      ]
     },
     "execution_count": 12,
     "metadata": {},
     "output_type": "execute_result"
    }
   ],
   "source": [
    "le_col=df.loc[:,'2005_le':'2011_le']\n",
    "df['mean_le'] = le_col.mean(axis=1)\n",
    "\n",
    "wh_col=df.loc[:,'2005_wh':'2011_wh']\n",
    "df['mean_wh'] = wh_col.mean(axis=1)\n",
    "\n",
    "hs_col=df.loc[:,'2005_hs':'2011_hs']\n",
    "df['mean_hs'] = hs_col.mean(axis=1)\n",
    "\n",
    "ds_col=df.loc[:,'2005_ds':'2011_ds']\n",
    "df['mean_ds'] = ds_col.mean(axis=1)\n",
    "\n",
    "df.iloc[:,[32,33,34,35]].describe()"
   ]
  },
  {
   "cell_type": "markdown",
   "metadata": {},
   "source": [
    "<a id='eda'></a>\n",
    "## Exploratory Data Analysis"
   ]
  },
  {
   "cell_type": "markdown",
   "metadata": {},
   "source": [
    "### Question 1: Which country has the highest Life Expectancy? Looking at their Work Hours, Happiness Score, and Democracy Score, do these appear lower or higher?"
   ]
  },
  {
   "cell_type": "markdown",
   "metadata": {},
   "source": [
    "To answer this question, I have made a smaller data set with rows for the 10 countries with the highest life expectancies. From there, I have picked the country with the highest life expectancy and called out the row's mean values to analyze below."
   ]
  },
  {
   "cell_type": "code",
   "execution_count": 13,
   "metadata": {},
   "outputs": [],
   "source": [
    "barplotdata = df.nlargest(10,'mean_le')"
   ]
  },
  {
   "cell_type": "code",
   "execution_count": 14,
   "metadata": {},
   "outputs": [
    {
     "data": {
      "text/plain": [
       "Text(0, 0.5, 'Life Expectancy (yrs)')"
      ]
     },
     "execution_count": 14,
     "metadata": {},
     "output_type": "execute_result"
    },
    {
     "data": {
      "image/png": "[encoded data removed]",
      "text/plain": [
       "<Figure size 432x288 with 1 Axes>"
      ]
     },
     "metadata": {
      "needs_background": "light"
     },
     "output_type": "display_data"
    }
   ],
   "source": [
    "mt.pyplot.bar(barplotdata['country_le'],barplotdata['mean_le'])\n",
    "mt.pyplot.ylim(ymin=80, ymax=85)\n",
    "mt.pyplot.xticks(barplotdata['country_le'], barplotdata['country_le'], rotation=50)\n",
    "mt.pyplot.title('Top 10 Countries with Highest Life Expectancies')\n",
    "mt.pyplot.xlabel('Countries')\n",
    "mt.pyplot.ylabel('Life Expectancy (yrs)')"
   ]
  },
  {
   "cell_type": "code",
   "execution_count": 15,
   "metadata": {},
   "outputs": [
    {
     "data": {
      "text/html": [
       "<div>\n",
       "<style scoped>\n",
       "    .dataframe tbody tr th:only-of-type {\n",
       "        vertical-align: middle;\n",
       "    }\n",
       "\n",
       "    .dataframe tbody tr th {\n",
       "        vertical-align: top;\n",
       "    }\n",
       "\n",
       "    .dataframe thead th {\n",
       "        text-align: right;\n",
       "    }\n",
       "</style>\n",
       "<table border=\"1\" class=\"dataframe\">\n",
       "  <thead>\n",
       "    <tr style=\"text-align: right;\">\n",
       "      <th></th>\n",
       "      <th>country_le</th>\n",
       "      <th>mean_le</th>\n",
       "      <th>mean_wh</th>\n",
       "      <th>mean_hs</th>\n",
       "      <th>mean_ds</th>\n",
       "    </tr>\n",
       "  </thead>\n",
       "  <tbody>\n",
       "    <tr>\n",
       "      <th>51</th>\n",
       "      <td>Japan</td>\n",
       "      <td>82.814286</td>\n",
       "      <td>40.25</td>\n",
       "      <td>0.613833</td>\n",
       "      <td>10.0</td>\n",
       "    </tr>\n",
       "  </tbody>\n",
       "</table>\n",
       "</div>"
      ],
      "text/plain": [
       "   country_le    mean_le  mean_wh   mean_hs  mean_ds\n",
       "51      Japan  82.814286    40.25  0.613833     10.0"
      ]
     },
     "execution_count": 15,
     "metadata": {},
     "output_type": "execute_result"
    }
   ],
   "source": [
    "df[df['mean_le']==df['mean_le'].max()].iloc[:,[0,32,33,34,35]]"
   ]
  },
  {
   "cell_type": "markdown",
   "metadata": {},
   "source": [
    "**ANSWER:**\n",
    "\n",
    "The country with the highest life expectancy is **Japan** with 82.81 years followed by Singapore. \n",
    "\n",
    "For Japan, the **Democracy Score** is at the max possible value (10), while the **Work Hours** (40.25) is slightly below the median (40.6) and the **Happiness Score** (0.61) is slightly above the median (0.54).\n",
    "\n",
    "Looking at this information, it seems that there might be a relationship between Life Expectancy and Democracy Score & Happiness Score."
   ]
  },
  {
   "cell_type": "markdown",
   "metadata": {},
   "source": [
    "### Question 2: Is there a relationship between Life Expectancy and Work Hours?"
   ]
  },
  {
   "cell_type": "markdown",
   "metadata": {},
   "source": [
    "To answer this question, I have created a scatter plot with both variables to see if there is a trend."
   ]
  },
  {
   "cell_type": "code",
   "execution_count": 16,
   "metadata": {},
   "outputs": [
    {
     "data": {
      "text/plain": [
       "Text(0, 0.5, 'Life Expectancy (yrs)')"
      ]
     },
     "execution_count": 16,
     "metadata": {},
     "output_type": "execute_result"
    },
    {
     "data": {
      "image/png": "[encoded data removed]",
      "text/plain": [
       "<Figure size 432x288 with 1 Axes>"
      ]
     },
     "metadata": {
      "needs_background": "light"
     },
     "output_type": "display_data"
    }
   ],
   "source": [
    "mt.pyplot.scatter(df['mean_wh'],df['mean_le'],c='#2ca02c', alpha=0.5, edgecolors='face')\n",
    "mt.pyplot.title('Scatter Distribution for Life Expectancy vs Work Hours per Week')\n",
    "mt.pyplot.xlabel('Work Hours per Week (hrs)')\n",
    "mt.pyplot.ylabel('Life Expectancy (yrs)')"
   ]
  },
  {
   "cell_type": "markdown",
   "metadata": {},
   "source": [
    "**ANSWER:**\n",
    "\n",
    "Based on the scatter plot, the distribution does not seem to point towards a specific relation between Life Expectancy and Work Hours."
   ]
  },
  {
   "cell_type": "markdown",
   "metadata": {},
   "source": [
    "### Question 3: Is there a relationship between Life Expectancy and Happiness Score?"
   ]
  },
  {
   "cell_type": "markdown",
   "metadata": {},
   "source": [
    "To answer this question, I have created a scatter plot with both variables to see if there is a trend."
   ]
  },
  {
   "cell_type": "code",
   "execution_count": 17,
   "metadata": {
    "scrolled": true
   },
   "outputs": [
    {
     "data": {
      "text/plain": [
       "Text(0, 0.5, 'Life Expectancy (yrs)')"
      ]
     },
     "execution_count": 17,
     "metadata": {},
     "output_type": "execute_result"
    },
    {
     "data": {
      "image/png": "[encoded data removed]",
      "text/plain": [
       "<Figure size 432x288 with 1 Axes>"
      ]
     },
     "metadata": {
      "needs_background": "light"
     },
     "output_type": "display_data"
    }
   ],
   "source": [
    "mt.pyplot.scatter(df['mean_hs'],df['mean_le'],c='#1da50d', alpha=0.5, edgecolors='face')\n",
    "mt.pyplot.title('Scatter Distribution for Life Expectancy vs Happiness Score')\n",
    "mt.pyplot.xlabel('Happiness Score (0-1)')\n",
    "mt.pyplot.ylabel('Life Expectancy (yrs)')"
   ]
  },
  {
   "cell_type": "markdown",
   "metadata": {},
   "source": [
    "**ANSWER:**\n",
    "\n",
    "Based on the scatter plot, the distribution seems point towards a positive correlation between Life Expectancy and Happiness Score."
   ]
  },
  {
   "cell_type": "markdown",
   "metadata": {},
   "source": [
    "### Question 4: Is there a relationship between Life Expectancy and Democracy Score?"
   ]
  },
  {
   "cell_type": "markdown",
   "metadata": {},
   "source": [
    "To answer this question, I have created a scatter plot with both variables to see if there is a trend."
   ]
  },
  {
   "cell_type": "markdown",
   "metadata": {},
   "source": [
    "**ANSWER:**\n",
    "\n",
    "Based on the scatter plot, the distribution seems point towards a positive correlation between Life Expectancy and Democracy Score."
   ]
  },
  {
   "cell_type": "code",
   "execution_count": 18,
   "metadata": {
    "scrolled": false
   },
   "outputs": [
    {
     "data": {
      "text/plain": [
       "Text(0, 0.5, 'Life Expectancy (yrs)')"
      ]
     },
     "execution_count": 18,
     "metadata": {},
     "output_type": "execute_result"
    },
    {
     "data": {
      "image/png": "[encoded data removed]",
      "text/plain": [
       "<Figure size 432x288 with 1 Axes>"
      ]
     },
     "metadata": {
      "needs_background": "light"
     },
     "output_type": "display_data"
    }
   ],
   "source": [
    "mt.pyplot.scatter(df['mean_ds'],df['mean_le'],c='#2ca02c', alpha=0.5, edgecolors='face')\n",
    "mt.pyplot.title('Scatter Distribution for Life Expectancy vs Democracy Score')\n",
    "mt.pyplot.xlabel('Democracy Score (0-10)')\n",
    "mt.pyplot.ylabel('Life Expectancy (yrs)')"
   ]
  },
  {
   "cell_type": "markdown",
   "metadata": {},
   "source": [
    "### Question 5 (EXTRA): What is the distribution of Life Expectancy for all countries?"
   ]
  },
  {
   "cell_type": "markdown",
   "metadata": {},
   "source": [
    "To address the single-variable analysis, I am looking to see if there is a specific distribution (e.g. normal) for life expectancy based on the dataset. To do this, a histogram will be plotted based on the mean for each country."
   ]
  },
  {
   "cell_type": "code",
   "execution_count": 19,
   "metadata": {},
   "outputs": [
    {
     "data": {
      "text/plain": [
       "Text(0.5, 0, 'Life Expectancy (yrs)')"
      ]
     },
     "execution_count": 19,
     "metadata": {},
     "output_type": "execute_result"
    },
    {
     "data": {
      "image/png": "[encoded data removed]",
      "text/plain": [
       "<Figure size 432x288 with 1 Axes>"
      ]
     },
     "metadata": {
      "needs_background": "light"
     },
     "output_type": "display_data"
    }
   ],
   "source": [
    "df['mean_le'].plot.hist(bins=20, color = 'skyblue')\n",
    "mt.pyplot.title('Histogram for Life Expectancy')\n",
    "mt.pyplot.xlabel('Life Expectancy (yrs)')"
   ]
  },
  {
   "cell_type": "markdown",
   "metadata": {},
   "source": [
    "**ANSWER:**\n",
    "\n",
    "Life Expectancy appears to be left skewed as shown above.\n",
    "\n"
   ]
  },
  {
   "cell_type": "markdown",
   "metadata": {},
   "source": [
    "<a id='conclusions'></a>\n",
    "## Conclusions\n"
   ]
  },
  {
   "cell_type": "markdown",
   "metadata": {},
   "source": [
    "From our questions, we have determined that Japan has the highest life expectancy. \n",
    "\n",
    "Life Expectancy appears to be positively correlated with a higher Democracy Score and a higher Happiness Score. This relationship is most telling in the Happiness Score scatter plot. Life Expectancy does not seem to be correlated with work hours.\n",
    "\n",
    "It should be noted that other factors come into play and as such it can't be said from this analysis that higher democracy scores and higher happiness scores lead to higher life expectancy. For instance, it is possible that countries with higher democracy scores are also wealthy countries, which offer quality healthcare services to their citizens leading to higher life expectancies. In that case, it isn't necessarily the democracy score that leads to higher life expectancy but access to quality healthcare."
   ]
  }
 ],
 "metadata": {
  "kernelspec": {
   "display_name": "Python 3",
   "language": "python",
   "name": "python3"
  },
  "language_info": {
   "codemirror_mode": {
    "name": "ipython",
    "version": 3
   },
   "file_extension": ".py",
   "mimetype": "text/x-python",
   "name": "python",
   "nbconvert_exporter": "python",
   "pygments_lexer": "ipython3",
   "version": "3.8.5"
  }
 },
 "nbformat": 4,
 "nbformat_minor": 2
}
